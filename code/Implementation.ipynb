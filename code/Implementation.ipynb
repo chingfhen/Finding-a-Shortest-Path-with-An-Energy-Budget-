{
 "cells": [
  {
   "cell_type": "code",
   "execution_count": 1,
   "id": "535f39c5",
   "metadata": {},
   "outputs": [],
   "source": [
    "from Astar import *"
   ]
  },
  {
   "cell_type": "code",
   "execution_count": 1,
   "id": "8f944d16",
   "metadata": {},
   "outputs": [],
   "source": [
    "import json\n",
    "import numpy as np\n",
    "with open(r\"../data/G.json\", encoding = \"utf8\") as f:\n",
    "    G = json.load(f)\n",
    "with open(r\"../data/Dist.json\", encoding = \"utf8\") as f:\n",
    "    Dist = json.load(f)\n",
    "with open(r\"../data/Cost.json\", encoding = \"utf8\") as f:\n",
    "    Cost = json.load(f)\n",
    "with open(r\"../data/Coord.json\", encoding = \"utf8\") as f:\n",
    "    Coord = json.load(f)"
   ]
  },
  {
   "cell_type": "code",
   "execution_count": 2,
   "id": "2ae2f219",
   "metadata": {},
   "outputs": [],
   "source": [
    "import json\n",
    "import numpy as np\n",
    "with open(r\"..\\data\\G.json\", encoding = \"utf8\") as f:\n",
    "    G = json.load(f)\n",
    "with open(r\"..\\data\\Dist.json\", encoding = \"utf8\") as f:\n",
    "    Dist = json.load(f)\n",
    "with open(r\"..\\data\\Cost.json\", encoding = \"utf8\") as f:\n",
    "    Cost = json.load(f)\n",
    "with open(r\"..\\data\\Coord.json\", encoding = \"utf8\") as f:\n",
    "    Coord = json.load(f)"
   ]
  },
  {
   "cell_type": "code",
   "execution_count": 3,
   "id": "0e68ca15",
   "metadata": {},
   "outputs": [],
   "source": [
    "def distance_func(u,v):\n",
    "    return Dist[f\"{u},{v}\"]\n",
    "def energy_func(u,v):\n",
    "    return Cost[f\"{u},{v}\"]"
   ]
  },
  {
   "cell_type": "code",
   "execution_count": 4,
   "id": "fb6e8644",
   "metadata": {},
   "outputs": [],
   "source": [
    "from geopy.distance import geodesic\n",
    "def heuristic(v ,d = \"50\", alpha = 2):\n",
    "    def convert_to_actual_coord(input_list: list):\n",
    "        return (input_list[1]/1000000, input_list[0]/1000000)\n",
    "    v_coord, d_coord = convert_to_actual_coord(Coord[v]),convert_to_actual_coord(Coord[d])\n",
    "    return alpha*geodesic(v_coord, d_coord).m\n",
    "\n",
    "import math\n",
    "def heuristic_sl_distance(node1, node2 = \"50\"):\n",
    "    x_dist = abs(Coord[node1][0])-abs(Coord[node2][0])\n",
    "    y_dist = abs(Coord[node1][1])-abs(Coord[node2][1])\n",
    "    return math.sqrt(x_dist**2 + y_dist**2)"
   ]
  },
  {
   "cell_type": "markdown",
   "id": "ac2b2d2d",
   "metadata": {},
   "source": [
    "## Task 1\n",
    "- UCS\n",
    "- no budget "
   ]
  },
  {
   "cell_type": "code",
   "execution_count": 11,
   "id": "9dd18a8f",
   "metadata": {},
   "outputs": [
    {
     "data": {
      "text/plain": [
       "PathInfo(nodes=['1', '1363', '1358', '1357', '1356', '1276', '1273', '1277', '1269', '1267', '1268', '1284', '1283', '1282', '1255', '1253', '1260', '1259', '1249', '1246', '963', '964', '962', '1002', '952', '1000', '998', '994', '995', '996', '987', '988', '979', '980', '969', '977', '989', '990', '991', '2369', '2366', '2340', '2338', '2339', '2333', '2334', '2329', '2029', '2027', '2019', '2022', '2000', '1996', '1997', '1993', '1992', '1989', '1984', '2001', '1900', '1875', '1874', '1965', '1963', '1964', '1923', '1944', '1945', '1938', '1937', '1939', '1935', '1931', '1934', '1673', '1675', '1674', '1837', '1671', '1828', '1825', '1817', '1815', '1634', '1814', '1813', '1632', '1631', '1742', '1741', '1740', '1739', '1591', '1689', '1585', '1584', '1688', '1579', '1679', '1677', '104', '5680', '5418', '5431', '5425', '5424', '5422', '5413', '5412', '5411', '66', '5392', '5391', '5388', '5291', '5278', '5289', '5290', '5283', '5284', '5280', '50'], distance=148648.63722140013, energy=294853)"
      ]
     },
     "execution_count": 11,
     "metadata": {},
     "output_type": "execute_result"
    }
   ],
   "source": [
    "shortest = find_path(G, \"1\", \"50\", cost_func=distance_func, energy_func = energy_func, heuristic_func = None, energy_budget = None)\n",
    "shortest"
   ]
  },
  {
   "cell_type": "code",
   "execution_count": null,
   "id": "e1e37a33",
   "metadata": {},
   "outputs": [],
   "source": []
  },
  {
   "cell_type": "markdown",
   "id": "05c82e33",
   "metadata": {},
   "source": [
    "## Task 2\n",
    "- UCS\n",
    "- budgeted"
   ]
  },
  {
   "cell_type": "code",
   "execution_count": 5,
   "id": "5bd3e0ea",
   "metadata": {},
   "outputs": [
    {
     "name": "stdout",
     "output_type": "stream",
     "text": [
      "PathInfo(nodes=['1', '1363', '1358', '1357', '1356', '1276', '1273', '1277', '1269', '1267', '1268', '1284', '1283', '1282', '1255', '1253', '1260', '1259', '1249', '1246', '963', '964', '962', '1002', '952', '1000', '998', '994', '995', '996', '987', '988', '979', '980', '969', '977', '989', '990', '991', '2465', '2466', '2384', '2382', '2385', '2379', '2380', '2445', '2444', '2405', '2406', '2398', '2395', '2397', '2142', '2141', '2125', '2126', '2082', '2080', '2071', '1979', '1975', '1967', '1966', '1974', '1973', '1971', '1970', '1948', '1937', '1939', '1935', '1931', '1934', '1673', '1675', '1674', '1837', '1671', '1828', '1825', '1817', '1815', '1634', '1814', '1813', '1632', '1631', '1742', '1741', '1740', '1739', '1591', '1689', '1585', '1584', '1688', '1579', '1679', '1677', '104', '5680', '5418', '5431', '5425', '5424', '5422', '5413', '5412', '5411', '66', '5392', '5391', '5388', '5291', '5278', '5289', '5290', '5283', '5284', '5280', '50'], distance=150335.55441905285, energy=259087)\n",
      "time taken:  0.13169002532958984\n"
     ]
    }
   ],
   "source": [
    "import time\n",
    "\n",
    "start = time.time()\n",
    "shortest = find_path(G, \"1\", \"50\", cost_func=distance_func, energy_func = energy_func, heuristic_func = None, energy_budget = 287932)\n",
    "end = time.time()\n",
    "print(shortest)\n",
    "print(\"time taken: \", end - start)"
   ]
  },
  {
   "cell_type": "markdown",
   "id": "22540309",
   "metadata": {},
   "source": [
    "## Task 3\n",
    "- A*\n",
    "- budgeted"
   ]
  },
  {
   "cell_type": "code",
   "execution_count": 9,
   "id": "2d09b469",
   "metadata": {},
   "outputs": [
    {
     "data": {
      "text/plain": [
       "PathInfo(nodes=['1', '1363', '1358', '1357', '1356', '1276', '1273', '1277', '1269', '1241', '1240', '1235', '956', '953', '955', '957', '948', '949', '952', '1000', '998', '994', '995', '996', '987', '986', '979', '980', '969', '977', '989', '990', '991', '2465', '2466', '2384', '2382', '2385', '2379', '2380', '2445', '2444', '2405', '2406', '2398', '2395', '2397', '2142', '2141', '2125', '2126', '2082', '2080', '2081', '2073', '2075', '2164', '2163', '2162', '2159', '2158', '2160', '71', '61', '60', '1851', '1847', '1846', '1824', '1797', '1787', '1775', '1761', '1760', '5523', '5483', '5479', '5470', '5403', '5402', '5396', '5395', '5292', '5282', '5283', '5284', '5280', '50'], distance=162569.5738557771, energy=268718)"
      ]
     },
     "execution_count": 9,
     "metadata": {},
     "output_type": "execute_result"
    }
   ],
   "source": [
    "find_path(G, \"1\", \"50\", cost_func=distance_func, energy_func = energy_func, heuristic_func = heuristic, energy_budget = 287932)\n",
    "\n"
   ]
  },
  {
   "cell_type": "code",
   "execution_count": 6,
   "id": "9009d777",
   "metadata": {},
   "outputs": [
    {
     "name": "stdout",
     "output_type": "stream",
     "text": [
      "PathInfo(nodes=['1', '1363', '1358', '1357', '1356', '1276', '1273', '1277', '1269', '1267', '1268', '1284', '1283', '1282', '1255', '1253', '1260', '1259', '1249', '1246', '963', '964', '962', '1002', '952', '1000', '998', '994', '995', '996', '987', '988', '979', '980', '969', '977', '989', '990', '991', '2465', '2466', '2384', '2382', '2385', '2379', '2380', '2445', '2444', '2405', '2406', '2398', '2395', '2397', '2142', '2141', '2125', '2126', '2082', '2080', '2071', '1979', '1975', '1967', '1966', '1974', '1973', '1971', '1970', '1948', '1937', '1939', '1935', '1931', '1934', '1673', '1675', '1674', '1837', '1671', '1828', '1825', '1817', '1815', '1634', '1814', '1813', '1632', '1631', '1742', '1741', '1740', '1739', '1591', '1689', '1585', '1584', '1688', '1579', '1679', '1677', '104', '5680', '5418', '5431', '5425', '5424', '5422', '5413', '5412', '5411', '66', '5392', '5391', '5388', '5291', '5278', '5289', '5290', '5283', '5284', '5280', '50'], distance=150335.55441905285, energy=259087)\n",
      "time taken:  0.07396411895751953\n"
     ]
    }
   ],
   "source": [
    "start = time.time()\n",
    "shortest = find_path_astar(G, \"1\", \"50\", cost_func=distance_func, energy_func = energy_func, heuristic_func = heuristic_sl_distance, energy_budget = 287932)\n",
    "end = time.time()\n",
    "print(shortest)\n",
    "print(\"time taken: \", end - start)\n"
   ]
  },
  {
   "cell_type": "code",
   "execution_count": 7,
   "id": "08f0a65f",
   "metadata": {},
   "outputs": [
    {
     "name": "stdout",
     "output_type": "stream",
     "text": [
      "{'1363': 22603.166626377126, '12': 23110.190790480177, '2': 23095.612591202473}\n"
     ]
    },
    {
     "data": {
      "text/plain": [
       "['1363', '2', '12']"
      ]
     },
     "execution_count": 7,
     "metadata": {},
     "output_type": "execute_result"
    }
   ],
   "source": [
    "neighbors = ['1363', '12', '2']\n",
    "def sort_neighbors(neighbors, heuristic_func):\n",
    "    neighbor_dict = {v: heuristic_func(v) for v in neighbors}\n",
    "    sorted_neighbors = sorted(neighbors, key=neighbor_dict.get)\n",
    "    print(neighbor_dict)\n",
    "    return sorted_neighbors\n",
    "\n",
    "sort_neighbors(neighbors, heuristic_func=heuristic)"
   ]
  },
  {
   "cell_type": "code",
   "execution_count": 9,
   "id": "3743e17f",
   "metadata": {},
   "outputs": [
    {
     "data": {
      "text/plain": [
       "dict_keys([])"
      ]
     },
     "execution_count": 9,
     "metadata": {},
     "output_type": "execute_result"
    }
   ],
   "source": [
    "l = {}\n",
    "l.keys()"
   ]
  },
  {
   "cell_type": "code",
   "execution_count": null,
   "id": "e22eab7b",
   "metadata": {},
   "outputs": [],
   "source": []
  },
  {
   "cell_type": "code",
   "execution_count": null,
   "id": "021df5d1",
   "metadata": {},
   "outputs": [],
   "source": []
  },
  {
   "cell_type": "code",
   "execution_count": null,
   "id": "d3d0a60a",
   "metadata": {},
   "outputs": [],
   "source": []
  },
  {
   "cell_type": "code",
   "execution_count": null,
   "id": "049cbdb7",
   "metadata": {},
   "outputs": [],
   "source": []
  },
  {
   "cell_type": "code",
   "execution_count": null,
   "id": "eef5526b",
   "metadata": {},
   "outputs": [],
   "source": []
  },
  {
   "cell_type": "code",
   "execution_count": null,
   "id": "bbc95362",
   "metadata": {},
   "outputs": [],
   "source": []
  },
  {
   "cell_type": "code",
   "execution_count": null,
   "id": "ba0180a2",
   "metadata": {},
   "outputs": [],
   "source": [
    "total_dist = 0\n",
    "total_energy = 0\n",
    "distances = []\n",
    "energies = []\n",
    "for i,node in enumerate(shortest.nodes[:-1]):\n",
    "    next_node = shortest.nodes[1+i]\n",
    "    key = f\"{node},{next_node}\"\n",
    "    energies.append(Cost[key])\n",
    "    distances.append(Dist[key])\n",
    "    total_energy+=Cost[key]\n",
    "    total_dist+=Dist[key]"
   ]
  }
 ],
 "metadata": {
  "interpreter": {
   "hash": "4bb67470787fb37a0e3052dab48bbbfb9b25d5d232434529e109202a216d42ee"
  },
  "kernelspec": {
   "display_name": "Python 3",
   "language": "python",
   "name": "python3"
  },
  "language_info": {
   "codemirror_mode": {
    "name": "ipython",
    "version": 3
   },
   "file_extension": ".py",
   "mimetype": "text/x-python",
   "name": "python",
   "nbconvert_exporter": "python",
   "pygments_lexer": "ipython3",
   "version": "3.8.8"
  }
 },
 "nbformat": 4,
 "nbformat_minor": 5
}
