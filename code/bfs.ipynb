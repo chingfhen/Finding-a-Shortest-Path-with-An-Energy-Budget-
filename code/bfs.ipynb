{
 "cells": [
  {
   "cell_type": "markdown",
   "source": [
    "Tried to implement bfs/dijkstra, this version doesn't rly work lol but here for reference in case its useful."
   ],
   "metadata": {}
  },
  {
   "cell_type": "code",
   "execution_count": 1,
   "source": [
    "import json\n",
    "with open(\"../data/G.json\", encoding = \"utf8\") as f:\n",
    "    G = json.load(f)\n",
    "\n",
    "with open(\"../data/Coord.json\", encoding = \"utf8\") as f:\n",
    "    Coord = json.load(f)\n",
    "\n",
    "with open(\"../data/Dist.json\", encoding = \"utf8\") as f:\n",
    "    Dist = json.load(f)\n",
    "\n",
    "with open(\"../data/Cost.json\", encoding = \"utf8\") as f:\n",
    "    Cost = json.load(f)"
   ],
   "outputs": [],
   "metadata": {}
  },
  {
   "cell_type": "code",
   "execution_count": 3,
   "source": [
    "# shortest path for weighted graph\n",
    "start = 1\n",
    "end = 50\n",
    "\n",
    "\n",
    "def bfs(start, end):\n",
    "\n",
    "    path = [-1 for i in range(len(G))]\n",
    "    distances = [float('inf') for i in range(len(G))]\n",
    "    \n",
    "    queue = [int(start)]\n",
    "    distances[int(start)] = 0\n",
    "    visited = set()\n",
    "\n",
    "    while queue:\n",
    "        cur_node = int(queue.pop(0))\n",
    "        visited.add(cur_node)\n",
    "        if cur_node == end:\n",
    "            break\n",
    "        neighbours = G[str(cur_node)]    \n",
    "\n",
    "        for neighbour in neighbours:\n",
    "            if neighbour not in visited:\n",
    "                neighbour = int(neighbour)\n",
    "                queue.extend(neighbours)\n",
    "                cur_distance = distances[cur_node] + Dist[f\"{cur_node},{neighbour}\"] \n",
    "                if cur_distance < distances[neighbour]:\n",
    "                    distances[neighbour] = cur_distance\n",
    "                    path[cur_node] = neighbour\n",
    "    \n",
    "    return distances, path\n"
   ],
   "outputs": [],
   "metadata": {}
  },
  {
   "cell_type": "code",
   "execution_count": null,
   "source": [],
   "outputs": [],
   "metadata": {}
  }
 ],
 "metadata": {
  "orig_nbformat": 4,
  "language_info": {
   "name": "python",
   "version": "3.8.8",
   "mimetype": "text/x-python",
   "codemirror_mode": {
    "name": "ipython",
    "version": 3
   },
   "pygments_lexer": "ipython3",
   "nbconvert_exporter": "python",
   "file_extension": ".py"
  },
  "kernelspec": {
   "name": "python3",
   "display_name": "Python 3.8.8 64-bit ('base': conda)"
  },
  "interpreter": {
   "hash": "4bb67470787fb37a0e3052dab48bbbfb9b25d5d232434529e109202a216d42ee"
  }
 },
 "nbformat": 4,
 "nbformat_minor": 2
}