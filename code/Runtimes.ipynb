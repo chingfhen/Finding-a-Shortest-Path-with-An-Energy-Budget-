{
 "cells": [
  {
   "cell_type": "code",
   "execution_count": 1,
   "id": "535f39c5",
   "metadata": {},
   "outputs": [
    {
     "name": "stdout",
     "output_type": "stream",
     "text": [
      "C:\\Users\\tanch\\Documents\\NTU\\NTU Year 3\\Sem 1\\CZ3005 Artificial Intelligence\\Lab\\Finding-a-Shortest-Path-with-An-Energy-Budget\\data\n"
     ]
    }
   ],
   "source": [
    "import os\n",
    "\"\"\"\n",
    "CHANGE DIRECTORY\n",
    "\"\"\"\n",
    "os.chdir(r\"C:\\Users\\tanch\\Documents\\NTU\\NTU Year 3\\Sem 1\\CZ3005 Artificial Intelligence\\Lab\\Finding-a-Shortest-Path-with-An-Energy-Budget\\data\")\n",
    "from task1 import *\n",
    "from task2 import *\n",
    "from task3 import *\n",
    "import time"
   ]
  },
  {
   "cell_type": "code",
   "execution_count": 2,
   "id": "8f944d16",
   "metadata": {},
   "outputs": [],
   "source": [
    "import json\n",
    "import numpy as np\n",
    "with open(\"G.json\", encoding = \"utf8\") as f:\n",
    "    G = json.load(f)\n",
    "with open(\"Dist.json\", encoding = \"utf8\") as f:\n",
    "    Dist = json.load(f)\n",
    "with open(\"Cost.json\", encoding = \"utf8\") as f:\n",
    "    Cost = json.load(f)\n",
    "with open(\"Coord.json\", encoding = \"utf8\") as f:\n",
    "    Coord = json.load(f)"
   ]
  },
  {
   "cell_type": "code",
   "execution_count": 3,
   "id": "0e68ca15",
   "metadata": {},
   "outputs": [],
   "source": [
    "def distance_func(u,v):\n",
    "    return Dist[f\"{u},{v}\"]\n",
    "def energy_func(u,v):\n",
    "    return Cost[f\"{u},{v}\"]"
   ]
  },
  {
   "cell_type": "code",
   "execution_count": 4,
   "id": "fb6e8644",
   "metadata": {},
   "outputs": [],
   "source": [
    "from geopy.distance import geodesic\n",
    "def heuristic(v ,d = \"50\", alpha = 2):\n",
    "    def convert_to_actual_coord(input_list: list):\n",
    "        return (input_list[1]/1000000, input_list[0]/1000000)\n",
    "    v_coord, d_coord = convert_to_actual_coord(Coord[v]),convert_to_actual_coord(Coord[d])\n",
    "    return alpha*geodesic(v_coord, d_coord).m\n",
    "\n",
    "import math\n",
    "def heuristic_sl_distance(node1, node2 = \"50\"):\n",
    "    x_dist = abs(Coord[node1][0])-abs(Coord[node2][0])\n",
    "    y_dist = abs(Coord[node1][1])-abs(Coord[node2][1])\n",
    "    return math.sqrt(x_dist**2 + y_dist**2)"
   ]
  },
  {
   "cell_type": "markdown",
   "id": "ac2b2d2d",
   "metadata": {},
   "source": [
    "## Task 1\n",
    "- UCS\n",
    "- no budget "
   ]
  },
  {
   "cell_type": "code",
   "execution_count": 5,
   "id": "2d06283f",
   "metadata": {},
   "outputs": [],
   "source": [
    "start = \"1\"\n",
    "end = \"50\""
   ]
  },
  {
   "cell_type": "code",
   "execution_count": 6,
   "id": "9dd18a8f",
   "metadata": {
    "scrolled": true
   },
   "outputs": [
    {
     "name": "stdout",
     "output_type": "stream",
     "text": [
      "75.3 ms ± 9.26 ms per loop (mean ± std. dev. of 7 runs, 10 loops each)\n"
     ]
    }
   ],
   "source": [
    "%%timeit\n",
    "dijkstra_task1(G, start, end)"
   ]
  },
  {
   "cell_type": "markdown",
   "id": "05c82e33",
   "metadata": {},
   "source": [
    "## Task 2\n",
    "- UCS\n",
    "- budgeted"
   ]
  },
  {
   "cell_type": "code",
   "execution_count": 7,
   "id": "5bd3e0ea",
   "metadata": {},
   "outputs": [
    {
     "name": "stdout",
     "output_type": "stream",
     "text": [
      "51.2 ms ± 4.05 ms per loop (mean ± std. dev. of 7 runs, 10 loops each)\n"
     ]
    }
   ],
   "source": [
    "%%timeit\n",
    "find_path(G, \"1\", \"50\", cost_func=distance_func, energy_func = energy_func, heuristic_func = None, energy_budget = 287932)"
   ]
  },
  {
   "cell_type": "code",
   "execution_count": 8,
   "id": "c9494e1a",
   "metadata": {},
   "outputs": [
    {
     "data": {
      "text/plain": [
       "PathInfo(nodes=['1', '1363', '1358', '1357', '1356', '1276', '1273', '1277', '1269', '1267', '1268', '1284', '1283', '1282', '1255', '1253', '1260', '1259', '1249', '1246', '963', '964', '962', '1002', '952', '1000', '998', '994', '995', '996', '987', '988', '979', '980', '969', '977', '989', '990', '991', '2465', '2466', '2384', '2382', '2385', '2379', '2380', '2445', '2444', '2405', '2406', '2398', '2395', '2397', '2142', '2141', '2125', '2126', '2082', '2080', '2071', '1979', '1975', '1967', '1966', '1974', '1973', '1971', '1970', '1948', '1937', '1939', '1935', '1931', '1934', '1673', '1675', '1674', '1837', '1671', '1828', '1825', '1817', '1815', '1634', '1814', '1813', '1632', '1631', '1742', '1741', '1740', '1739', '1591', '1689', '1585', '1584', '1688', '1579', '1679', '1677', '104', '5680', '5418', '5431', '5425', '5424', '5422', '5413', '5412', '5411', '66', '5392', '5391', '5388', '5291', '5278', '5289', '5290', '5283', '5284', '5280', '50'], distance=150335.55441905285, energy=259087)"
      ]
     },
     "execution_count": 8,
     "metadata": {},
     "output_type": "execute_result"
    }
   ],
   "source": [
    "shortest =  find_path(G, \"1\", \"50\", cost_func=distance_func, energy_func = energy_func, heuristic_func = None, energy_budget = 287932)\n",
    "shortest"
   ]
  },
  {
   "cell_type": "markdown",
   "id": "22540309",
   "metadata": {},
   "source": [
    "## Task 3\n",
    "- A*\n",
    "- budgeted"
   ]
  },
  {
   "cell_type": "code",
   "execution_count": 9,
   "id": "f9fc3f3e",
   "metadata": {},
   "outputs": [],
   "source": [
    "def heuristic_sl_distance(alpha, node1, node2=\"50\"):\n",
    "    x_dist = abs(Coord[node1][0])-abs(Coord[node2][0])\n",
    "    y_dist = abs(Coord[node1][1])-abs(Coord[node2][1])\n",
    "    dist = math.sqrt(x_dist**2 + y_dist**2)\n",
    "    return alpha*dist"
   ]
  },
  {
   "cell_type": "code",
   "execution_count": 15,
   "id": "90bf633b",
   "metadata": {},
   "outputs": [
    {
     "name": "stdout",
     "output_type": "stream",
     "text": [
      "53.7 ms ± 5 ms per loop (mean ± std. dev. of 7 runs, 10 loops each)\n"
     ]
    }
   ],
   "source": [
    "%%timeit\n",
    "find_path_astar(G, \"1\", \"50\", cost_func=distance_func, energy_func=energy_func,\n",
    "                           heuristic_func=heuristic_sl_distance, alpha=1, energy_budget=287932)"
   ]
  },
  {
   "cell_type": "code",
   "execution_count": 16,
   "id": "dd2a724b",
   "metadata": {},
   "outputs": [
    {
     "data": {
      "text/plain": [
       "PathInfo(nodes=['1', '1363', '1358', '1357', '1356', '1276', '1273', '1277', '1269', '1267', '1268', '1284', '1283', '1282', '1255', '1253', '1260', '1259', '1249', '1246', '963', '964', '962', '1002', '952', '1000', '998', '994', '995', '996', '987', '988', '979', '980', '969', '977', '989', '990', '991', '2465', '2466', '2384', '2382', '2385', '2379', '2380', '2445', '2444', '2405', '2406', '2398', '2395', '2397', '2142', '2141', '2125', '2126', '2082', '2080', '2071', '1979', '1975', '1967', '1966', '1974', '1973', '1971', '1970', '1948', '1937', '1939', '1935', '1931', '1934', '1673', '1675', '1674', '1837', '1671', '1828', '1825', '1817', '1815', '1634', '1814', '1813', '1632', '1631', '1742', '1741', '1740', '1739', '1591', '1689', '1585', '1584', '1688', '1579', '1679', '1677', '104', '5680', '5418', '5431', '5425', '5424', '5422', '5413', '5412', '5411', '66', '5392', '5391', '5388', '5291', '5278', '5289', '5290', '5283', '5284', '5280', '50'], distance=150335.55441905285, energy=259087)"
      ]
     },
     "execution_count": 16,
     "metadata": {},
     "output_type": "execute_result"
    }
   ],
   "source": [
    "shortest =  find_path_astar(G, \"1\", \"50\", cost_func=distance_func, energy_func=energy_func,\n",
    "                           heuristic_func=heuristic_sl_distance, alpha=1, energy_budget=287932)\n",
    "shortest"
   ]
  },
  {
   "cell_type": "code",
   "execution_count": null,
   "id": "6a1588d4",
   "metadata": {},
   "outputs": [],
   "source": []
  },
  {
   "cell_type": "code",
   "execution_count": null,
   "id": "6237892c",
   "metadata": {},
   "outputs": [],
   "source": []
  },
  {
   "cell_type": "code",
   "execution_count": null,
   "id": "83a65b2a",
   "metadata": {},
   "outputs": [],
   "source": []
  },
  {
   "cell_type": "code",
   "execution_count": null,
   "id": "26e7b1e6",
   "metadata": {},
   "outputs": [],
   "source": []
  }
 ],
 "metadata": {
  "interpreter": {
   "hash": "4bb67470787fb37a0e3052dab48bbbfb9b25d5d232434529e109202a216d42ee"
  },
  "kernelspec": {
   "display_name": "Python 3",
   "language": "python",
   "name": "python3"
  },
  "language_info": {
   "codemirror_mode": {
    "name": "ipython",
    "version": 3
   },
   "file_extension": ".py",
   "mimetype": "text/x-python",
   "name": "python",
   "nbconvert_exporter": "python",
   "pygments_lexer": "ipython3",
   "version": "3.8.8"
  }
 },
 "nbformat": 4,
 "nbformat_minor": 5
}
