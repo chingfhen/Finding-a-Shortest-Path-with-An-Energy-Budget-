{
 "cells": [
  {
   "cell_type": "code",
   "execution_count": 1,
   "source": [
    "import json\n",
    "import os"
   ],
   "outputs": [],
   "metadata": {}
  },
  {
   "cell_type": "markdown",
   "source": [
    "# G\n",
    "- a dictionary representing a graph as an **adjacency list** where:\n",
    "    - the keys are the nodes\n",
    "    - the edges are the values"
   ],
   "metadata": {}
  },
  {
   "cell_type": "code",
   "execution_count": 2,
   "source": [
    "with open(r\"C:\\Users\\tanch\\Documents\\NTU\\NTU Year 3\\Sem 1\\CZ3005 Artificial Intelligence\\Lab\\Finding-a-Shortest-Path-with-An-Energy-Budget\\data\\G.json\", encoding = \"utf8\") as f:\n",
    "    G = json.load(f)"
   ],
   "outputs": [],
   "metadata": {}
  },
  {
   "cell_type": "markdown",
   "source": [
    "      G =   \n",
    "        {'1': ['1363', '12', '2'],\n",
    "        '2': ['13', '1', '48'],\n",
    "        '3': ['4', '3874'],\n",
    "        '4': ['3926', '3', '3937'],\n",
    "        '5': ['6', '1204', '1214', '1219'],\n",
    "        '6': ['5'],\n",
    "        '7': ['1147', '8', '1148'],\n",
    "        '8': ['7'],\n",
    "        '9': ['11', '603', '10']...}"
   ],
   "metadata": {}
  },
  {
   "cell_type": "code",
   "execution_count": 3,
   "source": [
    "print(\"Number of nodes: \",len(G))\n",
    "no_edges = 0\n",
    "for edges in G.values():\n",
    "    no_edges+=len(edges)\n",
    "print(\"Number of edges: \",no_edges)   "
   ],
   "outputs": [
    {
     "output_type": "stream",
     "name": "stdout",
     "text": [
      "Number of nodes:  264346\n",
      "Number of edges:  730100\n"
     ]
    }
   ],
   "metadata": {}
  },
  {
   "cell_type": "markdown",
   "source": [
    "- the number of edges and nodes are correct"
   ],
   "metadata": {}
  },
  {
   "cell_type": "markdown",
   "source": [
    "# Coord\n",
    "- a dictionary where:\n",
    "    - keys are nodes\n",
    "    - values are the coordinates\n",
    "    "
   ],
   "metadata": {}
  },
  {
   "cell_type": "markdown",
   "source": [
    "        Coord = \n",
    "        {'1': [-73530767, 41085396],\n",
    "         '2': [-73530538, 41086098],\n",
    "         '3': [-73519366, 41048796],\n",
    "         '4': [-73519377, 41048654],\n",
    "         '5': [-73524567, 41093796],\n",
    "         '6': [-73525490, 41093834],\n",
    "         '7': [-73531927, 41110484],\n",
    "         '8': [-73530106, 41110611],\n",
    "         '9': [-73529341, 41125895],...}"
   ],
   "metadata": {}
  },
  {
   "cell_type": "code",
   "execution_count": 4,
   "source": [
    "with open(r\"C:\\Users\\tanch\\Documents\\NTU\\NTU Year 3\\Sem 1\\CZ3005 Artificial Intelligence\\Lab\\Finding-a-Shortest-Path-with-An-Energy-Budget\\data\\Coord.json\", encoding = \"utf8\") as f:\n",
    "    Coord = json.load(f)"
   ],
   "outputs": [],
   "metadata": {}
  },
  {
   "cell_type": "code",
   "execution_count": 5,
   "source": [
    "print(\"Number of nodes: \",len(G))\n",
    "flag = False\n",
    "for c in Coord.values():\n",
    "    if len(c)!=2:\n",
    "        flag = True\n",
    "        break\n",
    "if flag:\n",
    "    print(\"Invalid coordinate detected\")\n",
    "else:\n",
    "    print(\"All coordinates are valid\")  "
   ],
   "outputs": [
    {
     "output_type": "stream",
     "name": "stdout",
     "text": [
      "Number of nodes:  264346\n",
      "All coordinates are valid\n"
     ]
    }
   ],
   "metadata": {}
  },
  {
   "cell_type": "markdown",
   "source": [
    "- number of nodes are correct\n",
    "- all coordinates have exactly 2 elements"
   ],
   "metadata": {}
  },
  {
   "cell_type": "markdown",
   "source": [
    "### actual coordinates\n",
    "- converting [-73530767, 41085396] into (41.085396,-73.530767) (lat,long) yields an actual coordinate in NYC"
   ],
   "metadata": {}
  },
  {
   "cell_type": "code",
   "execution_count": 6,
   "source": [
    "# assumes all input_list are consistent and structured the same way\n",
    "def convert_to_actual_coord(input_list: list):\n",
    "    return (input_list[1]/1000000, input_list[0]/1000000)"
   ],
   "outputs": [],
   "metadata": {}
  },
  {
   "cell_type": "code",
   "execution_count": 7,
   "source": [
    "convert_to_actual_coord([-73530767, 41085396])"
   ],
   "outputs": [
    {
     "output_type": "execute_result",
     "data": {
      "text/plain": [
       "(41.085396, -73.530767)"
      ]
     },
     "metadata": {},
     "execution_count": 7
    }
   ],
   "metadata": {}
  },
  {
   "cell_type": "markdown",
   "source": [
    "# Dist\n",
    "- a dictionary where:\n",
    "    - keys are edges \n",
    "    - values are the distance"
   ],
   "metadata": {}
  },
  {
   "cell_type": "markdown",
   "source": [
    "        Dist = \n",
    "        {'1,2': 803,\n",
    "         '2,1': 803,\n",
    "         '3,4': 158,\n",
    "         '4,3': 158,\n",
    "         '5,6': 923.7819006670352,\n",
    "         '6,5': 923.7819006670352,\n",
    "         '7,8': 1825.4232385942719,\n",
    "         '8,7': 1825.4232385942719,...}"
   ],
   "metadata": {}
  },
  {
   "cell_type": "code",
   "execution_count": 8,
   "source": [
    "with open(r\"C:\\Users\\tanch\\Documents\\NTU\\NTU Year 3\\Sem 1\\CZ3005 Artificial Intelligence\\Lab\\Finding-a-Shortest-Path-with-An-Energy-Budget\\data\\Dist.json\", encoding = \"utf8\") as f:\n",
    "    Dist = json.load(f)"
   ],
   "outputs": [],
   "metadata": {}
  },
  {
   "cell_type": "code",
   "execution_count": 9,
   "source": [
    "print(\"Number of edges: \",len(Dist))\n",
    "flag = False\n",
    "for d in Dist.values():\n",
    "    if not isinstance(d,int) and not isinstance(d,float):\n",
    "        flag = True\n",
    "        break\n",
    "if flag:\n",
    "    print(\"Invalid distance detected\")\n",
    "else:\n",
    "    print(\"All distances are valid\")  "
   ],
   "outputs": [
    {
     "output_type": "stream",
     "name": "stdout",
     "text": [
      "Number of edges:  730100\n",
      "All distances are valid\n"
     ]
    }
   ],
   "metadata": {}
  },
  {
   "cell_type": "markdown",
   "source": [
    "- correct number of edges \n",
    "- all distances are either int or float "
   ],
   "metadata": {}
  },
  {
   "cell_type": "markdown",
   "source": [
    "# Cost\n",
    "- a dictionary where:\n",
    "    - keys are edges \n",
    "    - values are the cost"
   ],
   "metadata": {}
  },
  {
   "cell_type": "markdown",
   "source": [
    "            Cost = \n",
    "            {'1,2': 2008,\n",
    "             '2,1': 2008,\n",
    "             '3,4': 395,\n",
    "             '4,3': 395,\n",
    "             '5,6': 1935,\n",
    "             '6,5': 1935,\n",
    "             '7,8': 3828,\n",
    "             '8,7': 3828,\n",
    "             '9,10': 4182,..}"
   ],
   "metadata": {}
  },
  {
   "cell_type": "code",
   "execution_count": 10,
   "source": [
    "with open(r\"C:\\Users\\tanch\\Documents\\NTU\\NTU Year 3\\Sem 1\\CZ3005 Artificial Intelligence\\Lab\\Finding-a-Shortest-Path-with-An-Energy-Budget\\data\\Cost.json\", encoding = \"utf8\") as f:\n",
    "    Cost = json.load(f)"
   ],
   "outputs": [],
   "metadata": {}
  },
  {
   "cell_type": "code",
   "execution_count": 11,
   "source": [
    "print(\"Number of edges: \",len(Cost))\n",
    "flag = False\n",
    "for c in Cost.values():\n",
    "    if not isinstance(c,int) and not isinstance(c,float):\n",
    "        flag = True\n",
    "        break\n",
    "if flag:\n",
    "    print(\"Invalid Cost detected\")\n",
    "else:\n",
    "    print(\"All costs are valid\")  "
   ],
   "outputs": [
    {
     "output_type": "stream",
     "name": "stdout",
     "text": [
      "Number of edges:  730100\n",
      "All costs are valid\n"
     ]
    }
   ],
   "metadata": {}
  },
  {
   "cell_type": "markdown",
   "source": [
    "- correct number of edges \n",
    "- all costs are either int or float "
   ],
   "metadata": {}
  },
  {
   "cell_type": "markdown",
   "source": [
    "# Start and End nodes ; \"1\" and \"50\" respectively\n",
    "- \"0\" corrected to \"1\" "
   ],
   "metadata": {}
  },
  {
   "cell_type": "code",
   "execution_count": 13,
   "source": [
    "start = \"1\"\n",
    "end = \"50\""
   ],
   "outputs": [],
   "metadata": {}
  },
  {
   "cell_type": "code",
   "execution_count": 14,
   "source": [
    "print(f\"'{start}':{G[start]}\")\n",
    "print(f\"'{start}':{Coord[start]}\")"
   ],
   "outputs": [
    {
     "output_type": "stream",
     "name": "stdout",
     "text": [
      "'1':['1363', '12', '2']\n",
      "'1':[-73530767, 41085396]\n"
     ]
    }
   ],
   "metadata": {}
  },
  {
   "cell_type": "code",
   "execution_count": 15,
   "source": [
    "print(f\"'{end}':{G[end]}\")\n",
    "print(f\"'{end}':{Coord[end]}\")"
   ],
   "outputs": [
    {
     "output_type": "stream",
     "name": "stdout",
     "text": [
      "'50':['5268', '5280', '49']\n",
      "'50':[-73643471, 41026897]\n"
     ]
    }
   ],
   "metadata": {}
  },
  {
   "cell_type": "code",
   "execution_count": null,
   "source": [],
   "outputs": [],
   "metadata": {}
  }
 ],
 "metadata": {
  "kernelspec": {
   "name": "python3",
   "display_name": "Python 3.8.8 64-bit ('base': conda)"
  },
  "language_info": {
   "codemirror_mode": {
    "name": "ipython",
    "version": 3
   },
   "file_extension": ".py",
   "mimetype": "text/x-python",
   "name": "python",
   "nbconvert_exporter": "python",
   "pygments_lexer": "ipython3",
   "version": "3.8.8"
  },
  "interpreter": {
   "hash": "4bb67470787fb37a0e3052dab48bbbfb9b25d5d232434529e109202a216d42ee"
  }
 },
 "nbformat": 4,
 "nbformat_minor": 5
}