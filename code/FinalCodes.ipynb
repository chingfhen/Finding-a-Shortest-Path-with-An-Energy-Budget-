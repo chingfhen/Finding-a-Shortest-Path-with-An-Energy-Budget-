{
 "cells": [
  {
   "cell_type": "code",
   "execution_count": 1,
   "metadata": {},
   "outputs": [],
   "source": [
    "import json\n",
    "import os"
   ]
  },
  {
   "cell_type": "markdown",
   "metadata": {},
   "source": [
    "# Data Exploration"
   ]
  },
  {
   "cell_type": "markdown",
   "metadata": {},
   "source": [
    "# G\n",
    "a dictionary representing a graph as an adjacency list where： <br>\n",
    "the keys are the nodes <br>\n",
    "the edges are the values"
   ]
  },
  {
   "cell_type": "code",
   "execution_count": 2,
   "metadata": {},
   "outputs": [],
   "source": [
    "with open(r\"C:\\Users\\XPS\\Desktop\\Uni drives me crazy\\Y3S1\\CZ3005 Aritificial Intelligence\\Project 1\\G.json\", encoding = \"utf8\") as f:\n",
    "    G = json.load(f)"
   ]
  },
  {
   "cell_type": "code",
   "execution_count": 3,
   "metadata": {},
   "outputs": [
    {
     "name": "stdout",
     "output_type": "stream",
     "text": [
      "Number of nodes:  264346\n",
      "Number of edges:  730100\n"
     ]
    }
   ],
   "source": [
    "print(\"Number of nodes: \",len(G))\n",
    "no_edges = 0\n",
    "for edges in G.values():\n",
    "    no_edges+=len(edges)\n",
    "print(\"Number of edges: \",no_edges)"
   ]
  },
  {
   "cell_type": "markdown",
   "metadata": {},
   "source": [
    "# Dist\n",
    "a dictionary where: <br>\n",
    "keys are edges <br>\n",
    "values are the distance "
   ]
  },
  {
   "cell_type": "code",
   "execution_count": 4,
   "metadata": {},
   "outputs": [],
   "source": [
    "with open(r\"C:\\Users\\XPS\\Desktop\\Uni drives me crazy\\Y3S1\\CZ3005 Aritificial Intelligence\\Project 1\\Dist.json\", encoding = \"utf8\") as f:\n",
    "    Dist = json.load(f)"
   ]
  },
  {
   "cell_type": "code",
   "execution_count": 5,
   "metadata": {},
   "outputs": [
    {
     "name": "stdout",
     "output_type": "stream",
     "text": [
      "Number of edges:  730100\n",
      "All distances are valid\n"
     ]
    }
   ],
   "source": [
    "print(\"Number of edges: \",len(Dist))\n",
    "flag = False\n",
    "for d in Dist.values():\n",
    "    if not isinstance(d,int) and not isinstance(d,float):\n",
    "        flag = True\n",
    "        break\n",
    "if flag:\n",
    "    print(\"Invalid distance detected\")\n",
    "else:\n",
    "    print(\"All distances are valid\")"
   ]
  },
  {
   "cell_type": "markdown",
   "metadata": {},
   "source": [
    "# Cost\n",
    "a dictionary where: <br>\n",
    "keys are edges <br>\n",
    "values are the cost"
   ]
  },
  {
   "cell_type": "code",
   "execution_count": 6,
   "metadata": {},
   "outputs": [],
   "source": [
    "with open(r\"C:\\Users\\XPS\\Desktop\\Uni drives me crazy\\Y3S1\\CZ3005 Aritificial Intelligence\\Project 1\\Cost.json\", encoding = \"utf8\") as f:\n",
    "    Cost = json.load(f)"
   ]
  },
  {
   "cell_type": "code",
   "execution_count": 7,
   "metadata": {},
   "outputs": [
    {
     "name": "stdout",
     "output_type": "stream",
     "text": [
      "Number of edges:  730100\n",
      "All costs are valid\n"
     ]
    }
   ],
   "source": [
    "print(\"Number of edges: \",len(Cost))\n",
    "flag = False\n",
    "for c in Cost.values():\n",
    "    if not isinstance(c,int) and not isinstance(c,float):\n",
    "        flag = True\n",
    "        break\n",
    "if flag:\n",
    "    print(\"Invalid Cost detected\")\n",
    "else:\n",
    "    print(\"All costs are valid\")"
   ]
  },
  {
   "cell_type": "markdown",
   "metadata": {},
   "source": [
    "# Coord\n",
    "a dictionary where: <br>\n",
    "keys are nodes <br>\n",
    "values are the coordinates"
   ]
  },
  {
   "cell_type": "code",
   "execution_count": 8,
   "metadata": {},
   "outputs": [],
   "source": [
    "with open(r\"C:\\Users\\XPS\\Desktop\\Uni drives me crazy\\Y3S1\\CZ3005 Aritificial Intelligence\\Project 1\\Coord.json\", encoding = \"utf8\") as f:\n",
    "    Coord = json.load(f)"
   ]
  },
  {
   "cell_type": "code",
   "execution_count": 10,
   "metadata": {},
   "outputs": [
    {
     "name": "stdout",
     "output_type": "stream",
     "text": [
      "Number of nodes:  264346\n",
      "All coordinates are valid\n"
     ]
    }
   ],
   "source": [
    "print(\"Number of nodes: \",len(G))\n",
    "flag = False\n",
    "for c in Coord.values():\n",
    "    if len(c)!=2:\n",
    "        flag = True\n",
    "        break\n",
    "if flag:\n",
    "    print(\"Invalid coordinate detected\")\n",
    "else:\n",
    "    print(\"All coordinates are valid\")"
   ]
  },
  {
   "cell_type": "code",
   "execution_count": null,
   "metadata": {},
   "outputs": [],
   "source": []
  },
  {
   "cell_type": "markdown",
   "metadata": {},
   "source": [
    "# Task 1"
   ]
  },
  {
   "cell_type": "markdown",
   "metadata": {},
   "source": [
    "## Priority Dictionary\n",
    "The code is taken from: https://www.ics.uci.edu/~eppstein/161/python/priodict.py"
   ]
  },
  {
   "cell_type": "code",
   "execution_count": 14,
   "metadata": {},
   "outputs": [],
   "source": [
    "# Priority dictionary using binary heaps\n",
    "# David Eppstein, UC Irvine, 8 Mar 2002\n",
    "\n",
    "# Implements a data structure that acts almost like a dictionary, with two modifications:\n",
    "# (1) D.smallest() returns the value x minimizing D[x].\n",
    "#     For this to work correctly, all values D[x] stored in the\n",
    "#     dictionary must be comparable.\n",
    "# (2) iterating \"for x in D\" finds and removes the items from D\n",
    "#     in sorted order. Each item is not removed until the next item is\n",
    "#     requested, so D[x] will still return a useful value until the\n",
    "#     next iteration of the for-loop.\n",
    "# Each operation takes logarithmic amortized time.\n",
    "\n",
    "from __future__ import generators\n",
    "\n",
    "\n",
    "class priorityDictionary(dict):\n",
    "    def __init__(self):\n",
    "        '''Initialize priorityDictionary by creating binary heap of\n",
    "        pairs (value,key). Note that changing or removing a dict entry\n",
    "        will not remove the old pair from the heap until it is found by\n",
    "        smallest() or until the heap is rebuilt.'''\n",
    "        self.__heap = []\n",
    "        dict.__init__(self)\n",
    "\n",
    "    def smallest(self):\n",
    "        '''Find smallest item after removing deleted items from front of\n",
    "        heap.'''\n",
    "        if len(self) == 0:\n",
    "            raise IndexError(\"smallest of empty priorityDictionary\")\n",
    "        heap = self.__heap\n",
    "        while heap[0][1] not in self or self[heap[0][1]] != heap[0][0]:\n",
    "            lastItem = heap.pop()\n",
    "            insertionPoint = 0\n",
    "            while 1:\n",
    "                smallChild = 2 * insertionPoint + 1\n",
    "                if smallChild + 1 < len(heap) and \\\n",
    "                        heap[smallChild] > heap[smallChild + 1]:\n",
    "                    smallChild += 1\n",
    "                if smallChild >= len(heap) or lastItem <= heap[smallChild]:\n",
    "                    heap[insertionPoint] = lastItem\n",
    "                    break\n",
    "                heap[insertionPoint] = heap[smallChild]\n",
    "                insertionPoint = smallChild\n",
    "        return heap[0][1]\n",
    "\n",
    "    def __iter__(self):\n",
    "        '''Create destructive sorted iterator of priorityDictionary.'''\n",
    "        def iterfn():\n",
    "            while len(self) > 0:\n",
    "                x = self.smallest()\n",
    "                yield x\n",
    "                del self[x]\n",
    "        return iterfn()\n",
    "\n",
    "    def __setitem__(self, key, val):\n",
    "        '''Change value stored in dictionary and add corresponding pair\n",
    "        to heap. Rebuilds the heap if the number of deleted items gets\n",
    "        large, to avoid memory leakage.'''\n",
    "        dict.__setitem__(self, key, val)\n",
    "        heap = self.__heap\n",
    "        if len(heap) > 2 * len(self):\n",
    "            self.__heap = [(v, k) for k, v in self.items()]\n",
    "            self.__heap.sort()\n",
    "            # builtin sort probably faster than O(n)-time heapify\n",
    "        else:\n",
    "            newPair = (val, key)\n",
    "            insertionPoint = len(heap)\n",
    "            heap.append(None)\n",
    "            while insertionPoint > 0 and \\\n",
    "                    newPair < heap[(insertionPoint - 1) // 2]:\n",
    "                heap[insertionPoint] = heap[(insertionPoint - 1) // 2]\n",
    "                insertionPoint = (insertionPoint - 1) // 2\n",
    "            heap[insertionPoint] = newPair\n",
    "            \n",
    "    def setdefault(self, key, val):\n",
    "        '''Reimplement setdefault to pass through our customized __setitem__.'''\n",
    "        if key not in self:\n",
    "            self[key] = val"
   ]
  },
  {
   "cell_type": "markdown",
   "metadata": {},
   "source": [
    "## Dijkstra's algorithm\n",
    "references: https://gist.github.com/hillscottc/7d2e17c59d96e26ec855 <br>\n",
    "https://gist.github.com/theonewolf/6175427"
   ]
  },
  {
   "cell_type": "code",
   "execution_count": 16,
   "metadata": {},
   "outputs": [],
   "source": [
    "def dijkstra_task1(graph, start, end=None):\n",
    "    \"\"\"Find all shortest paths from start node to a non-specific end, sg: each other node.\"\"\"\n",
    "    current_total_distances = {}    # dictionary of total distances so far\n",
    "    candidate_nodes = {}       # dictionary of candidate nodes, where the key is neighbour node, value is current node\n",
    "    estimated_total_distances = priorityDictionary()     # estimated distance of non-final nodes\n",
    "    estimated_total_distances[start] = 0        # initialize the distance at start node is 0\n",
    "\n",
    "    for current_node in estimated_total_distances:\n",
    "        current_total_distances[current_node] = estimated_total_distances[current_node]\n",
    "        if current_node == end:      # if we have reached the end node\n",
    "            break\n",
    "            \n",
    "        neighbours = graph[current_node]\n",
    "        # interate through every the current node's every adjacent node\n",
    "        for neighbour in neighbours:\n",
    "            # find the updated path_length, which is current total length + distance from current node to its neighbouring node\n",
    "            path_length = current_total_distances[current_node] + Dist[f\"{current_node},{neighbour}\"] \n",
    "            \n",
    "            # if the neighbour node has already being visited\n",
    "            if neighbour in current_total_distances:\n",
    "                # and the updated path_length is shorter than the previous total distance from start node to neighbour node\n",
    "                # that means our current route is not the shortest\n",
    "                if path_length < current_total_distances[neighbour]:\n",
    "                    # raise rror\n",
    "                    raise ValueError(\"Btter path found to an visited node!\")\n",
    "                    \n",
    "            # if the neighbour node is not visited \n",
    "            # or if the updated path length is shorter than the estimated total distance from start node to neighbour node\n",
    "            elif neighbour not in estimated_total_distances or path_length < estimated_total_distances[neighbour]:\n",
    "                # update the estimated total distance from start node to neighbour as path_length\n",
    "                estimated_total_distances[neighbour] = path_length\n",
    "                candidate_nodes[neighbour] = current_node    \n",
    "                \n",
    "    return candidate_nodes, estimated_total_distances"
   ]
  },
  {
   "cell_type": "code",
   "execution_count": 17,
   "metadata": {},
   "outputs": [],
   "source": [
    "def dijkstra_shortest_path(graph, start, end):\n",
    "    \"\"\"Find a shortest path from start node to the given end node,\n",
    "    output the list of nodes visited along the shortest path,\n",
    "    as well as the toal distances and total enegy costs.\"\"\"\n",
    "    \n",
    "    candidate_nodes, estimated_total_distances = dijkstra_task1(graph, start, end)\n",
    "    shortest_path = []\n",
    "    while True:\n",
    "        shortest_path.append(end)\n",
    "        if end == start:\n",
    "            break\n",
    "        end = candidate_nodes[end]\n",
    "    shortest_path.reverse()\n",
    "    \n",
    "    # print out the shortest path\n",
    "    print(\"Shortest path:\",end = '')\n",
    "    for i in range(0, len(shortest_path)-1):\n",
    "        print(shortest_path[i], \"->\", end = '')\n",
    "    print(shortest_path[-1], \".\") \n",
    "    \n",
    "    # obtain the value in the estimtaed_total_distances dictionary, the ned node is the key\n",
    "    print(\"Shortest distance:\", estimated_total_distances[shortest_path[-1]],\".\")\n",
    "    \n",
    "    # calculate total energy\n",
    "    total_energy = 0\n",
    "    for i in range(0, len(shortest_path)-1):\n",
    "        total_energy += Cost[f\"{shortest_path[i]},{shortest_path[i+1]}\"] \n",
    "    print(\"Total energy cost:\", total_energy, \".\")\n",
    "    # Task 1 does not satisfy the energy constraint"
   ]
  },
  {
   "cell_type": "code",
   "execution_count": 18,
   "metadata": {},
   "outputs": [
    {
     "name": "stdout",
     "output_type": "stream",
     "text": [
      "Shortest path:1 ->1363 ->1358 ->1357 ->1356 ->1276 ->1273 ->1277 ->1269 ->1267 ->1268 ->1284 ->1283 ->1282 ->1255 ->1253 ->1260 ->1259 ->1249 ->1246 ->963 ->964 ->962 ->1002 ->952 ->1000 ->998 ->994 ->995 ->996 ->987 ->988 ->979 ->980 ->969 ->977 ->989 ->990 ->991 ->2369 ->2366 ->2340 ->2338 ->2339 ->2333 ->2334 ->2329 ->2029 ->2027 ->2019 ->2022 ->2000 ->1996 ->1997 ->1993 ->1992 ->1989 ->1984 ->2001 ->1900 ->1875 ->1874 ->1965 ->1963 ->1964 ->1923 ->1944 ->1945 ->1938 ->1937 ->1939 ->1935 ->1931 ->1934 ->1673 ->1675 ->1674 ->1837 ->1671 ->1828 ->1825 ->1817 ->1815 ->1634 ->1814 ->1813 ->1632 ->1631 ->1742 ->1741 ->1740 ->1739 ->1591 ->1689 ->1585 ->1584 ->1688 ->1579 ->1679 ->1677 ->104 ->5680 ->5418 ->5431 ->5425 ->5424 ->5422 ->5413 ->5412 ->5411 ->66 ->5392 ->5391 ->5388 ->5291 ->5278 ->5289 ->5290 ->5283 ->5284 ->5280 ->50 .\n",
      "Shortest distance: 148648.63722140007 .\n",
      "Total energy cost: 294853 .\n"
     ]
    }
   ],
   "source": [
    "start = \"1\"\n",
    "end = \"50\"\n",
    "dijkstra_shortest_path(G, start, end)"
   ]
  },
  {
   "cell_type": "code",
   "execution_count": null,
   "metadata": {},
   "outputs": [],
   "source": []
  },
  {
   "cell_type": "code",
   "execution_count": null,
   "metadata": {},
   "outputs": [],
   "source": []
  },
  {
   "cell_type": "code",
   "execution_count": null,
   "metadata": {},
   "outputs": [],
   "source": []
  },
  {
   "cell_type": "code",
   "execution_count": null,
   "metadata": {},
   "outputs": [],
   "source": []
  },
  {
   "cell_type": "code",
   "execution_count": null,
   "metadata": {},
   "outputs": [],
   "source": []
  }
 ],
 "metadata": {
  "kernelspec": {
   "display_name": "Python 3",
   "language": "python",
   "name": "python3"
  },
  "language_info": {
   "codemirror_mode": {
    "name": "ipython",
    "version": 3
   },
   "file_extension": ".py",
   "mimetype": "text/x-python",
   "name": "python",
   "nbconvert_exporter": "python",
   "pygments_lexer": "ipython3",
   "version": "3.7.4"
  }
 },
 "nbformat": 4,
 "nbformat_minor": 2
}
