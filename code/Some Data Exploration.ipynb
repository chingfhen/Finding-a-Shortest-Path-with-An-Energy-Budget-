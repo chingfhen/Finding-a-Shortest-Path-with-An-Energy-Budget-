{
 "cells": [
  {
   "cell_type": "code",
   "execution_count": 14,
   "id": "dd20714e",
   "metadata": {},
   "outputs": [],
   "source": [
    "import json\n",
    "import os"
   ]
  },
  {
   "cell_type": "markdown",
   "id": "75a789db",
   "metadata": {},
   "source": [
    "# G\n",
    "- a dictionary representing a graph as an **adjacency list** where:\n",
    "    - the keys are the nodes\n",
    "    - the edges are the values"
   ]
  },
  {
   "cell_type": "code",
   "execution_count": 20,
   "id": "8a13a9af",
   "metadata": {},
   "outputs": [],
   "source": [
    "with open(r\"C:\\Users\\tanch\\Documents\\NTU\\NTU Year 3\\Sem 1\\CZ3005 Artificial Intelligence\\Lab\\Finding-a-Shortest-Path-with-An-Energy-Budget\\data\\G.json\", encoding = \"utf8\") as f:\n",
    "    G = json.load(f)"
   ]
  },
  {
   "cell_type": "markdown",
   "id": "14fb536e",
   "metadata": {},
   "source": [
    "      G =   \n",
    "        {'1': ['1363', '12', '2'],\n",
    "        '2': ['13', '1', '48'],\n",
    "        '3': ['4', '3874'],\n",
    "        '4': ['3926', '3', '3937'],\n",
    "        '5': ['6', '1204', '1214', '1219'],\n",
    "        '6': ['5'],\n",
    "        '7': ['1147', '8', '1148'],\n",
    "        '8': ['7'],\n",
    "        '9': ['11', '603', '10']...}"
   ]
  },
  {
   "cell_type": "code",
   "execution_count": 27,
   "id": "d239a709",
   "metadata": {},
   "outputs": [
    {
     "name": "stdout",
     "output_type": "stream",
     "text": [
      "Number of nodes:  264346\n",
      "Number of edges:  730100\n"
     ]
    }
   ],
   "source": [
    "print(\"Number of nodes: \",len(G))\n",
    "no_edges = 0\n",
    "for edges in G.values():\n",
    "    no_edges+=len(edges)\n",
    "print(\"Number of edges: \",no_edges)   "
   ]
  },
  {
   "cell_type": "markdown",
   "id": "0739cd8a",
   "metadata": {},
   "source": [
    "- the number of edges and nodes are correct"
   ]
  },
  {
   "cell_type": "markdown",
   "id": "5cc802c4",
   "metadata": {},
   "source": [
    "# Coord\n",
    "- a dictionary where:\n",
    "    - keys are nodes\n",
    "    - values are the coordinates\n",
    "    "
   ]
  },
  {
   "cell_type": "markdown",
   "id": "15747dac",
   "metadata": {},
   "source": [
    "        Coord = \n",
    "        {'1': [-73530767, 41085396],\n",
    "         '2': [-73530538, 41086098],\n",
    "         '3': [-73519366, 41048796],\n",
    "         '4': [-73519377, 41048654],\n",
    "         '5': [-73524567, 41093796],\n",
    "         '6': [-73525490, 41093834],\n",
    "         '7': [-73531927, 41110484],\n",
    "         '8': [-73530106, 41110611],\n",
    "         '9': [-73529341, 41125895],...}"
   ]
  },
  {
   "cell_type": "code",
   "execution_count": 28,
   "id": "2d885a67",
   "metadata": {},
   "outputs": [],
   "source": [
    "with open(r\"C:\\Users\\tanch\\Documents\\NTU\\NTU Year 3\\Sem 1\\CZ3005 Artificial Intelligence\\Lab\\Finding-a-Shortest-Path-with-An-Energy-Budget\\data\\Coord.json\", encoding = \"utf8\") as f:\n",
    "    Coord = json.load(f)"
   ]
  },
  {
   "cell_type": "code",
   "execution_count": 32,
   "id": "2705a6c4",
   "metadata": {},
   "outputs": [
    {
     "name": "stdout",
     "output_type": "stream",
     "text": [
      "Number of nodes:  264346\n",
      "All coordinates are valid\n"
     ]
    }
   ],
   "source": [
    "print(\"Number of nodes: \",len(G))\n",
    "flag = False\n",
    "for c in Coord.values():\n",
    "    if len(c)!=2:\n",
    "        flag = True\n",
    "        break\n",
    "if flag:\n",
    "    print(\"Invalid coordinate detected\")\n",
    "else:\n",
    "    print(\"All coordinates are valid\")  "
   ]
  },
  {
   "cell_type": "markdown",
   "id": "48d256b1",
   "metadata": {},
   "source": [
    "- number of nodes are correct\n",
    "- all coordinates have exactly 2 elements"
   ]
  },
  {
   "cell_type": "markdown",
   "id": "7cabdb8a",
   "metadata": {},
   "source": [
    "### actual coordinates\n",
    "- converting [-73530767, 41085396] into (41.085396,-73.530767) (lat,long) yields an actual coordinate in NYC"
   ]
  },
  {
   "cell_type": "code",
   "execution_count": 50,
   "id": "e9e2e471",
   "metadata": {},
   "outputs": [],
   "source": [
    "# assumes all input_list are consistent and structured the same way\n",
    "def convert_to_actual_coord(input_list: list):\n",
    "    return (input_list[1]/1000000, input_list[0]/1000000)"
   ]
  },
  {
   "cell_type": "code",
   "execution_count": 51,
   "id": "064854e2",
   "metadata": {},
   "outputs": [
    {
     "data": {
      "text/plain": [
       "(41.085396, -73.530767)"
      ]
     },
     "execution_count": 51,
     "metadata": {},
     "output_type": "execute_result"
    }
   ],
   "source": [
    "convert_to_actual_coord([-73530767, 41085396])"
   ]
  },
  {
   "cell_type": "markdown",
   "id": "8666d3ae",
   "metadata": {},
   "source": [
    "# Dist\n",
    "- a dictionary where:\n",
    "    - keys are edges \n",
    "    - values are the distance"
   ]
  },
  {
   "cell_type": "markdown",
   "id": "22d65bb5",
   "metadata": {},
   "source": [
    "        Dist = \n",
    "        {'1,2': 803,\n",
    "         '2,1': 803,\n",
    "         '3,4': 158,\n",
    "         '4,3': 158,\n",
    "         '5,6': 923.7819006670352,\n",
    "         '6,5': 923.7819006670352,\n",
    "         '7,8': 1825.4232385942719,\n",
    "         '8,7': 1825.4232385942719,...}"
   ]
  },
  {
   "cell_type": "code",
   "execution_count": 33,
   "id": "81534526",
   "metadata": {},
   "outputs": [],
   "source": [
    "with open(r\"C:\\Users\\tanch\\Documents\\NTU\\NTU Year 3\\Sem 1\\CZ3005 Artificial Intelligence\\Lab\\Finding-a-Shortest-Path-with-An-Energy-Budget\\data\\Dist.json\", encoding = \"utf8\") as f:\n",
    "    Dist = json.load(f)"
   ]
  },
  {
   "cell_type": "code",
   "execution_count": 42,
   "id": "13d3dc9d",
   "metadata": {},
   "outputs": [
    {
     "name": "stdout",
     "output_type": "stream",
     "text": [
      "Number of edges:  730100\n",
      "All distances are valid\n"
     ]
    }
   ],
   "source": [
    "print(\"Number of edges: \",len(Dist))\n",
    "flag = False\n",
    "for d in Dist.values():\n",
    "    if not isinstance(d,int) and not isinstance(d,float):\n",
    "        flag = True\n",
    "        break\n",
    "if flag:\n",
    "    print(\"Invalid distance detected\")\n",
    "else:\n",
    "    print(\"All distances are valid\")  "
   ]
  },
  {
   "cell_type": "markdown",
   "id": "3646fcae",
   "metadata": {},
   "source": [
    "- correct number of edges \n",
    "- all distances are either int or float "
   ]
  },
  {
   "cell_type": "markdown",
   "id": "aaa60a2f",
   "metadata": {},
   "source": [
    "# Cost\n",
    "- a dictionary where:\n",
    "    - keys are edges \n",
    "    - values are the cost"
   ]
  },
  {
   "cell_type": "markdown",
   "id": "607304bb",
   "metadata": {},
   "source": [
    "            Cost = \n",
    "            {'1,2': 2008,\n",
    "             '2,1': 2008,\n",
    "             '3,4': 395,\n",
    "             '4,3': 395,\n",
    "             '5,6': 1935,\n",
    "             '6,5': 1935,\n",
    "             '7,8': 3828,\n",
    "             '8,7': 3828,\n",
    "             '9,10': 4182,..}"
   ]
  },
  {
   "cell_type": "code",
   "execution_count": 40,
   "id": "b8bbc97b",
   "metadata": {},
   "outputs": [],
   "source": [
    "with open(r\"C:\\Users\\tanch\\Documents\\NTU\\NTU Year 3\\Sem 1\\CZ3005 Artificial Intelligence\\Lab\\Finding-a-Shortest-Path-with-An-Energy-Budget\\data\\Cost.json\", encoding = \"utf8\") as f:\n",
    "    Cost = json.load(f)"
   ]
  },
  {
   "cell_type": "code",
   "execution_count": 43,
   "id": "b0669c62",
   "metadata": {},
   "outputs": [
    {
     "name": "stdout",
     "output_type": "stream",
     "text": [
      "Number of edges:  730100\n",
      "All costs are valid\n"
     ]
    }
   ],
   "source": [
    "print(\"Number of edges: \",len(Cost))\n",
    "flag = False\n",
    "for c in Cost.values():\n",
    "    if not isinstance(c,int) and not isinstance(c,float):\n",
    "        flag = True\n",
    "        break\n",
    "if flag:\n",
    "    print(\"Invalid Cost detected\")\n",
    "else:\n",
    "    print(\"All costs are valid\")  "
   ]
  },
  {
   "cell_type": "markdown",
   "id": "33b07b24",
   "metadata": {},
   "source": [
    "- correct number of edges \n",
    "- all costs are either int or float "
   ]
  },
  {
   "cell_type": "markdown",
   "id": "a5c3b6b9",
   "metadata": {},
   "source": [
    "# Start and End nodes"
   ]
  },
  {
   "cell_type": "code",
   "execution_count": 55,
   "id": "fe91c92a",
   "metadata": {},
   "outputs": [],
   "source": [
    "start = \"0\"\n",
    "end = \"50\""
   ]
  },
  {
   "cell_type": "code",
   "execution_count": 62,
   "id": "995f2116",
   "metadata": {},
   "outputs": [
    {
     "name": "stdout",
     "output_type": "stream",
     "text": [
      "'50':['5268', '5280', '49']\n",
      "'50':[-73643471, 41026897]\n"
     ]
    }
   ],
   "source": [
    "print(f\"'{end}':{G[end]}\")\n",
    "print(f\"'{end}':{Coord[end]}\")"
   ]
  }
 ],
 "metadata": {
  "kernelspec": {
   "display_name": "Python 3",
   "language": "python",
   "name": "python3"
  },
  "language_info": {
   "codemirror_mode": {
    "name": "ipython",
    "version": 3
   },
   "file_extension": ".py",
   "mimetype": "text/x-python",
   "name": "python",
   "nbconvert_exporter": "python",
   "pygments_lexer": "ipython3",
   "version": "3.8.8"
  }
 },
 "nbformat": 4,
 "nbformat_minor": 5
}
