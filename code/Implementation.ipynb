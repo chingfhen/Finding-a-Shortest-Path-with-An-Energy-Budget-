{
 "cells": [
  {
   "cell_type": "code",
   "execution_count": 3,
   "id": "bb22d36b",
   "metadata": {},
   "outputs": [],
   "source": [
    "from Astar import single_source_shortest_paths,extract_shortest_path_from_predecessor_list,find_path"
   ]
  },
  {
   "cell_type": "code",
   "execution_count": 4,
   "id": "7b10ba45",
   "metadata": {},
   "outputs": [],
   "source": [
    "import json\n",
    "import numpy as np\n",
    "with open(r\"..\\data\\G.json\", encoding = \"utf8\") as f:\n",
    "    G = json.load(f)\n",
    "with open(r\"..\\data\\Dist.json\", encoding = \"utf8\") as f:\n",
    "    Dist = json.load(f)\n",
    "with open(r\"..\\data\\Cost.json\", encoding = \"utf8\") as f:\n",
    "    Cost = json.load(f)\n",
    "with open(r\"..\\data\\Coord.json\", encoding = \"utf8\") as f:\n",
    "    Coord = json.load(f)"
   ]
  },
  {
   "cell_type": "code",
   "execution_count": 5,
   "id": "9f4d33b5",
   "metadata": {},
   "outputs": [],
   "source": [
    "def distance_func(u,v):\n",
    "    return Dist[f\"{u},{v}\"]\n",
    "def energy_func(u,v):\n",
    "    return Cost[f\"{u},{v}\"]"
   ]
  },
  {
   "cell_type": "code",
   "execution_count": 6,
   "id": "cb95813d",
   "metadata": {},
   "outputs": [],
   "source": [
    "from geopy.distance import geodesic\n",
    "def heuristic(v ,d = \"50\", alpha = 2):\n",
    "    def convert_to_actual_coord(input_list: list):\n",
    "        return (input_list[1]/1000000, input_list[0]/1000000)\n",
    "    v_coord, d_coord = convert_to_actual_coord(Coord[v]),convert_to_actual_coord(Coord[d])\n",
    "    return alpha*geodesic(v_coord, d_coord).m"
   ]
  },
  {
   "cell_type": "markdown",
   "id": "d92bacfb",
   "metadata": {},
   "source": [
    "## Task 1\n",
    "- UCS\n",
    "- no budget "
   ]
  },
  {
   "cell_type": "code",
   "execution_count": 7,
   "id": "248f281b",
   "metadata": {},
   "outputs": [
    {
     "data": {
      "text/plain": [
       "PathInfo(nodes=['1', '1363', '1358', '1357', '1356', '1276', '1273', '1277', '1269', '1267', '1268', '1284', '1283', '1282', '1255', '1253', '1260', '1259', '1249', '1246', '963', '964', '962', '1002', '952', '1000', '998', '994', '995', '996', '987', '988', '979', '980', '969', '977', '989', '990', '991', '2369', '2366', '2340', '2338', '2339', '2333', '2334', '2329', '2029', '2027', '2019', '2022', '2000', '1996', '1997', '1993', '1992', '1989', '1984', '2001', '1900', '1875', '1874', '1965', '1963', '1964', '1923', '1944', '1945', '1938', '1937', '1939', '1935', '1931', '1934', '1673', '1675', '1674', '1837', '1671', '1828', '1825', '1817', '1815', '1634', '1814', '1813', '1632', '1631', '1742', '1741', '1740', '1739', '1591', '1689', '1585', '1584', '1688', '1579', '1679', '1677', '104', '5680', '5418', '5431', '5425', '5424', '5422', '5413', '5412', '5411', '66', '5392', '5391', '5388', '5291', '5278', '5289', '5290', '5283', '5284', '5280', '50'], distance=148648.63722140013, energy=294853)"
      ]
     },
     "execution_count": 7,
     "metadata": {},
     "output_type": "execute_result"
    }
   ],
   "source": [
    "shortest = find_path(G, \"1\", \"50\", cost_func=distance_func, energy_func = energy_func, heuristic_func = None, energy_budget = None)\n",
    "shortest"
   ]
  },
  {
   "cell_type": "code",
   "execution_count": null,
   "id": "db4cc0ed",
   "metadata": {},
   "outputs": [],
   "source": []
  },
  {
   "cell_type": "markdown",
   "id": "336217d3",
   "metadata": {},
   "source": [
    "## Task 2\n",
    "- UCS\n",
    "- budgeted"
   ]
  },
  {
   "cell_type": "code",
   "execution_count": 8,
   "id": "12964147",
   "metadata": {},
   "outputs": [
    {
     "data": {
      "text/plain": [
       "PathInfo(nodes=['1', '1363', '1358', '1357', '1356', '1276', '1273', '1277', '1269', '1267', '1268', '1284', '1283', '1282', '1255', '1253', '1260', '1259', '1249', '1246', '963', '964', '962', '1002', '952', '1000', '998', '994', '995', '996', '987', '988', '979', '980', '969', '977', '989', '990', '991', '2465', '2466', '2384', '2382', '2385', '2379', '2380', '2445', '2444', '2405', '2406', '2398', '2395', '2397', '2142', '2141', '2125', '2126', '2082', '2080', '2071', '1979', '1975', '1967', '1966', '1974', '1973', '1971', '1970', '1948', '1937', '1939', '1935', '1931', '1934', '1673', '1675', '1674', '1837', '1671', '1828', '1825', '1817', '1815', '1634', '1814', '1813', '1632', '1631', '1742', '1741', '1740', '1739', '1591', '1689', '1585', '1584', '1688', '1579', '1679', '1677', '104', '5680', '5418', '5431', '5425', '5424', '5422', '5413', '5412', '5411', '66', '5392', '5391', '5388', '5291', '5278', '5289', '5290', '5283', '5284', '5280', '50'], distance=150335.55441905285, energy=259087)"
      ]
     },
     "execution_count": 8,
     "metadata": {},
     "output_type": "execute_result"
    }
   ],
   "source": [
    "shortest = find_path(G, \"1\", \"50\", cost_func=distance_func, energy_func = energy_func, heuristic_func = None, energy_budget = 287932)\n",
    "shortest"
   ]
  },
  {
   "cell_type": "code",
   "execution_count": null,
   "id": "d1de87d2",
   "metadata": {},
   "outputs": [],
   "source": []
  },
  {
   "cell_type": "markdown",
   "id": "54569194",
   "metadata": {},
   "source": [
    "## Task 3\n",
    "- A*\n",
    "- budgeted"
   ]
  },
  {
   "cell_type": "code",
   "execution_count": 9,
   "id": "7d71119b",
   "metadata": {},
   "outputs": [
    {
     "data": {
      "text/plain": [
       "PathInfo(nodes=['1', '1363', '1358', '1357', '1356', '1276', '1273', '1277', '1269', '1241', '1240', '1235', '956', '953', '955', '957', '948', '949', '952', '1000', '998', '994', '995', '996', '987', '986', '979', '980', '969', '977', '989', '990', '991', '2465', '2466', '2384', '2382', '2385', '2379', '2380', '2445', '2444', '2405', '2406', '2398', '2395', '2397', '2142', '2141', '2125', '2126', '2082', '2080', '2081', '2073', '2075', '2164', '2163', '2162', '2159', '2158', '2160', '71', '61', '60', '1851', '1847', '1846', '1824', '1797', '1787', '1775', '1761', '1760', '5523', '5483', '5479', '5470', '5403', '5402', '5396', '5395', '5292', '5282', '5283', '5284', '5280', '50'], distance=162569.5738557771, energy=268718)"
      ]
     },
     "execution_count": 9,
     "metadata": {},
     "output_type": "execute_result"
    }
   ],
   "source": [
    "shortest = find_path(G, \"1\", \"50\", cost_func=distance_func, energy_func = energy_func, heuristic_func = heuristic, energy_budget = 287932)\n",
    "shortest"
   ]
  },
  {
   "cell_type": "code",
   "execution_count": null,
   "id": "c672c51d",
   "metadata": {},
   "outputs": [],
   "source": []
  },
  {
   "cell_type": "code",
   "execution_count": null,
   "id": "d1c06937",
   "metadata": {},
   "outputs": [],
   "source": []
  },
  {
   "cell_type": "code",
   "execution_count": null,
   "id": "5c6b4201",
   "metadata": {},
   "outputs": [],
   "source": []
  },
  {
   "cell_type": "code",
   "execution_count": null,
   "id": "33abe5ac",
   "metadata": {},
   "outputs": [],
   "source": []
  },
  {
   "cell_type": "code",
   "execution_count": null,
   "id": "f5ab766e",
   "metadata": {},
   "outputs": [],
   "source": []
  },
  {
   "cell_type": "code",
   "execution_count": null,
   "id": "83079469",
   "metadata": {},
   "outputs": [],
   "source": []
  },
  {
   "cell_type": "code",
   "execution_count": null,
   "id": "10969d68",
   "metadata": {},
   "outputs": [],
   "source": []
  },
  {
   "cell_type": "code",
   "execution_count": null,
   "id": "6183e5c0",
   "metadata": {},
   "outputs": [],
   "source": []
  },
  {
   "cell_type": "code",
   "execution_count": null,
   "id": "1091e3f0",
   "metadata": {},
   "outputs": [],
   "source": []
  },
  {
   "cell_type": "code",
   "execution_count": null,
   "id": "a9a261ce",
   "metadata": {},
   "outputs": [],
   "source": []
  },
  {
   "cell_type": "code",
   "execution_count": null,
   "id": "9df77e52",
   "metadata": {},
   "outputs": [],
   "source": [
    "total_dist = 0\n",
    "total_energy = 0\n",
    "distances = []\n",
    "energies = []\n",
    "for i,node in enumerate(shortest.nodes[:-1]):\n",
    "    next_node = shortest.nodes[1+i]\n",
    "    key = f\"{node},{next_node}\"\n",
    "    energies.append(Cost[key])\n",
    "    distances.append(Dist[key])\n",
    "    total_energy+=Cost[key]\n",
    "    total_dist+=Dist[key]"
   ]
  }
 ],
 "metadata": {
  "kernelspec": {
   "display_name": "Python 3",
   "language": "python",
   "name": "python3"
  },
  "language_info": {
   "codemirror_mode": {
    "name": "ipython",
    "version": 3
   },
   "file_extension": ".py",
   "mimetype": "text/x-python",
   "name": "python",
   "nbconvert_exporter": "python",
   "pygments_lexer": "ipython3",
   "version": "3.8.8"
  }
 },
 "nbformat": 4,
 "nbformat_minor": 5
}
